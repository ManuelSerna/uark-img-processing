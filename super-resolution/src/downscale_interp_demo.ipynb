{
 "cells": [
  {
   "cell_type": "code",
   "execution_count": 16,
   "metadata": {},
   "outputs": [],
   "source": [
    "#**********************************\n",
    "# Downscale Demo\n",
    "# Showcase interpolation methods on downscaling images \n",
    "#  by some scale factor.\n",
    "# \n",
    "# Manuel Serna-Aguilera\n",
    "# Spring 2021\n",
    "#**********************************\n"
   ]
  },
  {
   "cell_type": "code",
   "execution_count": 17,
   "metadata": {},
   "outputs": [],
   "source": [
    "# Imports\n",
    "import cv2\n",
    "import numpy as np\n",
    "import matplotlib.pyplot as plt\n"
   ]
  },
  {
   "cell_type": "code",
   "execution_count": 18,
   "metadata": {},
   "outputs": [],
   "source": [
    "# Define sudirectories where images are kept\n",
    "data_dir = 'images/'\n",
    "my_imgs_subdir = 'custom_test/'\n"
   ]
  },
  {
   "cell_type": "code",
   "execution_count": 19,
   "metadata": {},
   "outputs": [],
   "source": [
    "# Read image\n",
    "img_name = data_dir + my_imgs_subdir + 'sprite.png'\n",
    "img = cv2.imread(img_name)\n",
    "scale = 0.25 # downscale factor\n"
   ]
  },
  {
   "cell_type": "code",
   "execution_count": 20,
   "metadata": {},
   "outputs": [
    {
     "name": "stdout",
     "output_type": "stream",
     "text": [
      "Image dims (height, width): (256, 256)\n"
     ]
    },
    {
     "data": {
      "image/png": "[encoded data removed]",
      "text/plain": [
       "<Figure size 432x288 with 1 Axes>"
      ]
     },
     "metadata": {
      "needs_background": "light"
     },
     "output_type": "display_data"
    }
   ],
   "source": [
    "# Display: raw image\n",
    "plt.imshow(img)\n",
    "\n",
    "# Get raw image dimensions\n",
    "img_h = img.shape[0]\n",
    "img_w = img.shape[1]\n",
    "\n",
    "print('Image dims (height, width): ({}, {})'.format(img_h, img_w))\n"
   ]
  },
  {
   "cell_type": "code",
   "execution_count": 21,
   "metadata": {},
   "outputs": [
    {
     "name": "stdout",
     "output_type": "stream",
     "text": [
      "Image dims (height, width): (64, 64)\n"
     ]
    },
    {
     "data": {
      "image/png": "[encoded data removed]",
      "text/plain": [
       "<Figure size 432x288 with 1 Axes>"
      ]
     },
     "metadata": {
      "needs_background": "light"
     },
     "output_type": "display_data"
    }
   ],
   "source": [
    "# Display: downscaled image using bicubic interpolation\n",
    "bc_h = int(scale * img_h)\n",
    "bc_w = int(scale * img_w)\n",
    "\n",
    "bc = cv2.resize(img, (bc_h, bc_w), 0, 0, interpolation=cv2.INTER_CUBIC)\n",
    "plt.imshow(bc)\n",
    "\n",
    "print('Image dims (height, width): ({}, {})'.format(bc_h, bc_w))"
   ]
  }
 ],
 "metadata": {
  "kernelspec": {
   "display_name": "Python 3",
   "language": "python",
   "name": "python3"
  },
  "language_info": {
   "codemirror_mode": {
    "name": "ipython",
    "version": 3
   },
   "file_extension": ".py",
   "mimetype": "text/x-python",
   "name": "python",
   "nbconvert_exporter": "python",
   "pygments_lexer": "ipython3",
   "version": "3.8.3"
  }
 },
 "nbformat": 4,
 "nbformat_minor": 4
}
