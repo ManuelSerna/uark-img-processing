{
 "cells": [
  {
   "cell_type": "code",
   "execution_count": 2,
   "metadata": {},
   "outputs": [],
   "source": [
    "#**********************************\n",
    "# Demo Notebook 1\n",
    "#  Showcase single-image super-resolution interpolation methods\n",
    "# Manuel Serna-Aguilera\n",
    "# Spring 2021\n",
    "#**********************************\n"
   ]
  },
  {
   "cell_type": "code",
   "execution_count": 8,
   "metadata": {},
   "outputs": [],
   "source": [
    "# Imports\n",
    "import cv2\n",
    "import numpy as np\n",
    "import matplotlib.pyplot as plt\n"
   ]
  },
  {
   "cell_type": "code",
   "execution_count": 7,
   "metadata": {},
   "outputs": [
    {
     "data": {
      "text/plain": [
       "<matplotlib.image.AxesImage at 0x7fe7231c1a90>"
      ]
     },
     "execution_count": 7,
     "metadata": {},
     "output_type": "execute_result"
    },
    {
     "data": {
      "image/png": "[encoded data removed]",
      "text/plain": [
       "<Figure size 432x288 with 1 Axes>"
      ]
     },
     "metadata": {
      "needs_background": "light"
     },
     "output_type": "display_data"
    }
   ],
   "source": [
    "# Test: read image\n",
    "# NOTE: use matplotlib's imshow function as cv2 does not play\n",
    "#  well with notebooks.\n",
    "data_dir = 'images/'\n",
    "my_imgs_subdir = 'custom_test/'\n",
    "# TODO: create subdir with actual SISR images (set5 and set14)\n",
    "\n",
    "# Read image and display\n",
    "img_name = data_dir + my_imgs_subdir + 'vertical.png'\n",
    "img = cv2.imread(img_name)\n",
    "plt.imshow(img)\n"
   ]
  },
  {
   "cell_type": "code",
   "execution_count": 21,
   "metadata": {},
   "outputs": [],
   "source": [
    "#**********************************\n",
    "# Plot results of interpolation methods\n",
    "# Input: raw image to upscale\n",
    "#**********************************\n",
    "def show_interpolations(img=None):\n",
    "    fig, axs = plt.subplots(2, 2) # create 2x2 plot\n",
    "    \n",
    "    # TODO 1: perform upscalings, and\n",
    "    # TODO 2: return interpolated imgs for eval\n",
    "    \n",
    "    # Fig 1\n",
    "    axs[0, 0].set_title(\"Original\")\n",
    "    axs[0, 0].imshow(img)\n",
    "    \n",
    "    # Fig 2\n",
    "    axs[0, 1].set_title(\"Nearest Neighbors\")\n",
    "    axs[0, 1].imshow(img)\n",
    "    \n",
    "    # Fig 3\n",
    "    axs[1, 0].set_title(\"Bilinear\")\n",
    "    axs[1, 0].imshow(img)\n",
    "    \n",
    "    # Fig 4\n",
    "    axs[1, 1].set_title(\"Bicubic\")\n",
    "    axs[1, 1].imshow(img)\n",
    "    \n",
    "    fig.tight_layout()\n"
   ]
  },
  {
   "cell_type": "code",
   "execution_count": 20,
   "metadata": {},
   "outputs": [
    {
     "data": {
      "image/png": "[encoded data removed]",
      "text/plain": [
       "<Figure size 432x288 with 4 Axes>"
      ]
     },
     "metadata": {
      "needs_background": "light"
     },
     "output_type": "display_data"
    }
   ],
   "source": [
    "# Call function to show interpolation methods on chosen image\n",
    "show_interpolations(img)"
   ]
  },
  {
   "cell_type": "code",
   "execution_count": null,
   "metadata": {},
   "outputs": [],
   "source": [
    "# TODO: eval functions in separate cells"
   ]
  },
  {
   "cell_type": "code",
   "execution_count": null,
   "metadata": {},
   "outputs": [],
   "source": [
    "# TODO: call eval functions in separate cells"
   ]
  }
 ],
 "metadata": {
  "kernelspec": {
   "display_name": "Python 3",
   "language": "python",
   "name": "python3"
  },
  "language_info": {
   "codemirror_mode": {
    "name": "ipython",
    "version": 3
   },
   "file_extension": ".py",
   "mimetype": "text/x-python",
   "name": "python",
   "nbconvert_exporter": "python",
   "pygments_lexer": "ipython3",
   "version": "3.8.5"
  }
 },
 "nbformat": 4,
 "nbformat_minor": 4
}
