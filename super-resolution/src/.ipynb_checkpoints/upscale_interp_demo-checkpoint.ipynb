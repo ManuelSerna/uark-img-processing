{
 "cells": [
  {
   "cell_type": "code",
   "execution_count": 11,
   "metadata": {},
   "outputs": [],
   "source": [
    "#**********************************\n",
    "# Upscale Demo: Interpolation methods\n",
    "# Showcase interpolation methods on upscaling images by some \n",
    "#  scale factor.\n",
    "# \n",
    "# Manuel Serna-Aguilera\n",
    "# Spring 2021\n",
    "#**********************************\n"
   ]
  },
  {
   "cell_type": "code",
   "execution_count": 12,
   "metadata": {},
   "outputs": [],
   "source": [
    "# Imports\n",
    "import cv2\n",
    "import numpy as np\n",
    "import matplotlib.pyplot as plt\n"
   ]
  },
  {
   "cell_type": "code",
   "execution_count": 13,
   "metadata": {},
   "outputs": [],
   "source": [
    "# Define sudirectories where images are kept\n",
    "data_dir = 'images/'\n",
    "my_imgs_subdir = 'custom_test/'\n",
    "# TODO: create subdir with actual SISR images (set5 and set14)\n"
   ]
  },
  {
   "cell_type": "code",
   "execution_count": 14,
   "metadata": {},
   "outputs": [],
   "source": [
    "# Read image\n",
    "img_name = data_dir + my_imgs_subdir + 'very_small.png'\n",
    "img = cv2.imread(img_name)\n",
    "scale = 4\n"
   ]
  },
  {
   "cell_type": "code",
   "execution_count": 15,
   "metadata": {},
   "outputs": [
    {
     "name": "stdout",
     "output_type": "stream",
     "text": [
      "Image dims (height, width): (4, 4)\n"
     ]
    },
    {
     "data": {
      "image/png": "[encoded data removed]",
      "text/plain": [
       "<Figure size 432x288 with 1 Axes>"
      ]
     },
     "metadata": {
      "needs_background": "light"
     },
     "output_type": "display_data"
    }
   ],
   "source": [
    "# Display: raw image\n",
    "plt.imshow(img)\n",
    "\n",
    "# Get raw image dimensions\n",
    "img_h = img.shape[0]\n",
    "img_w = img.shape[1]\n",
    "\n",
    "print('Image dims (height, width): ({}, {})'.format(img_h, img_w))\n"
   ]
  },
  {
   "cell_type": "code",
   "execution_count": 16,
   "metadata": {},
   "outputs": [
    {
     "name": "stdout",
     "output_type": "stream",
     "text": [
      "Image dims (height, width): (16, 16)\n"
     ]
    },
    {
     "data": {
      "image/png": "[encoded data removed]",
      "text/plain": [
       "<Figure size 432x288 with 1 Axes>"
      ]
     },
     "metadata": {
      "needs_background": "light"
     },
     "output_type": "display_data"
    }
   ],
   "source": [
    "# Display: interpolated image using nearest neighbors\n",
    "#INTER_NEAREST\n",
    "nn_h = scale * img_h\n",
    "nn_w = scale * img_w\n",
    "\n",
    "nn = cv2.resize(img, (nn_h, nn_w), 0, 0, interpolation=cv2.INTER_NEAREST)\n",
    "\n",
    "plt.imshow(nn)\n",
    "\n",
    "print('Image dims (height, width): ({}, {})'.format(nn_h, nn_w))"
   ]
  },
  {
   "cell_type": "code",
   "execution_count": 17,
   "metadata": {},
   "outputs": [
    {
     "name": "stdout",
     "output_type": "stream",
     "text": [
      "Image dims (height, width): (16, 16)\n"
     ]
    },
    {
     "data": {
      "image/png": "[encoded data removed]",
      "text/plain": [
       "<Figure size 432x288 with 1 Axes>"
      ]
     },
     "metadata": {
      "needs_background": "light"
     },
     "output_type": "display_data"
    }
   ],
   "source": [
    "# Display: interpolated image using bilinear interpolation\n",
    "#INTER_LINEAR\n",
    "bl_h = scale * img_h\n",
    "bl_w = scale * img_w\n",
    "\n",
    "bl = cv2.resize(img, (bl_h, bl_w), 0, 0, interpolation=cv2.INTER_LINEAR)\n",
    "plt.imshow(bl)\n",
    "\n",
    "print('Image dims (height, width): ({}, {})'.format(bl_h, bl_w))"
   ]
  },
  {
   "cell_type": "code",
   "execution_count": 18,
   "metadata": {},
   "outputs": [
    {
     "name": "stdout",
     "output_type": "stream",
     "text": [
      "Image dims (height, width): (16, 16)\n"
     ]
    },
    {
     "data": {
      "image/png": "[encoded data removed]",
      "text/plain": [
       "<Figure size 432x288 with 1 Axes>"
      ]
     },
     "metadata": {
      "needs_background": "light"
     },
     "output_type": "display_data"
    }
   ],
   "source": [
    "# Display: interpolated image using bicubic interpolation (4x4 neighborhood)\n",
    "#INTER_CUBIC\n",
    "bc_h = scale * img_h\n",
    "bc_w = scale * img_w\n",
    "\n",
    "bc = cv2.resize(img, (bc_h, bc_w), 0, 0, interpolation=cv2.INTER_CUBIC)\n",
    "plt.imshow(bc)\n",
    "\n",
    "print('Image dims (height, width): ({}, {})'.format(bc_h, bc_w))"
   ]
  },
  {
   "cell_type": "code",
   "execution_count": 19,
   "metadata": {},
   "outputs": [],
   "source": [
    "# TODO: eval functions in separate cells"
   ]
  },
  {
   "cell_type": "code",
   "execution_count": 20,
   "metadata": {},
   "outputs": [],
   "source": [
    "# TODO: call eval functions in separate cells"
   ]
  }
 ],
 "metadata": {
  "kernelspec": {
   "display_name": "Python 3",
   "language": "python",
   "name": "python3"
  },
  "language_info": {
   "codemirror_mode": {
    "name": "ipython",
    "version": 3
   },
   "file_extension": ".py",
   "mimetype": "text/x-python",
   "name": "python",
   "nbconvert_exporter": "python",
   "pygments_lexer": "ipython3",
   "version": "3.8.5"
  }
 },
 "nbformat": 4,
 "nbformat_minor": 4
}
